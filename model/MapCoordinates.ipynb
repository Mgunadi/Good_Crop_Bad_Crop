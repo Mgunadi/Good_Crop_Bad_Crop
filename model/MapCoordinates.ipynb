{
 "cells": [
  {
   "cell_type": "code",
   "execution_count": 1,
   "metadata": {},
   "outputs": [],
   "source": [
    "#imports\n",
    "import matplotlib.pyplot as plt\n",
    "from matplotlib import image\n",
    "import numpy as np\n",
    "import pandas as pd\n",
    "import glob\n",
    "from datetime import datetime\n",
    "import copy\n",
    "from matplotlib import cm\n",
    "import matplotlib.dates as mdates\n",
    "import json"
   ]
  },
  {
   "cell_type": "code",
   "execution_count": 2,
   "metadata": {},
   "outputs": [],
   "source": [
    "tile_x = 5120\n",
    "tile_y = 3584\n",
    "band = 'TCI' #photo\n",
    "time_period = '2019-07-20'\n",
    "TCI_filename = f\"./satelite_data/Phase02DataDelivery/sugarcanetiles/{tile_x}-{tile_y}-{band}-{time_period}.png\"\n",
    "#mask_filename = f\"./satelite_data/Phase02DataDelivery/masks/mask-x{tile_x}-y{tile_y}.png\"\n",
    "location_path = f\"./satelite_data/Phase02DataDelivery/sugarcanetiles/{tile_x}-{tile_y}-{band}*.png\"\n",
    "location_times = glob.glob(location_path)\n",
    "\n",
    "for i in range(0,len(location_times)):\n",
    "    location_times[i] = location_times[i][-14:-4]\n",
    "\n",
    "location_times.sort(reverse=True)"
   ]
  },
  {
   "cell_type": "code",
   "execution_count": 31,
   "metadata": {},
   "outputs": [
    {
     "name": "stdout",
     "output_type": "stream",
     "text": [
      "Coords for 5120, 3584: (148.44725599525663,-20.213777989611096) to (148.49659904172267,-20.259534818362447)\n"
     ]
    }
   ],
   "source": [
    "\n",
    "JSON_filename = f\"./satelite_data/Phase02DataDelivery/geometries/geo-x{tile_x}-y{tile_y}.geojson\"\n",
    "#load json file\n",
    "with open(JSON_filename) as f:\n",
    "    geo_dict = json.load(f)\n",
    "    \n",
    "coord_dict = geo_dict['features'][0]['geometry']['coordinates'][0]\n",
    "\n",
    "Left = coord_dict[0][0]\n",
    "Top = coord_dict[0][1]\n",
    "Right = coord_dict[2][0]\n",
    "Bottom = coord_dict[2][1]\n",
    "\n",
    "print(f\"Coords for {tile_x}, {tile_y}: ({Left},{Top}) to ({Right},{Bottom})\")\n",
    "\n",
    "#map to a 512x512 table\n",
    "x_map = (np.linspace(0,1,512)*(Right-Left))+Left\n",
    "y_map = (np.linspace(0,1,512)*(Bottom-Top))+Top\n",
    "\n",
    "coords = np.zeros([512,512,2])\n",
    "for i in range(0,512):\n",
    "    for j in range(0,512):\n",
    "        coords[i,j,0] = x_map[i]\n",
    "        coords[i,j,1] = y_map[j]"
   ]
  },
  {
   "cell_type": "code",
   "execution_count": 35,
   "metadata": {},
   "outputs": [
    {
     "data": {
      "text/plain": [
       "array([148.447256  , -20.21377799])"
      ]
     },
     "execution_count": 35,
     "metadata": {},
     "output_type": "execute_result"
    }
   ],
   "source": [
    "coords[0,0]"
   ]
  },
  {
   "cell_type": "code",
   "execution_count": 37,
   "metadata": {},
   "outputs": [
    {
     "data": {
      "text/plain": [
       "array([148.49659904, -20.25953482])"
      ]
     },
     "execution_count": 37,
     "metadata": {},
     "output_type": "execute_result"
    }
   ],
   "source": [
    "coords[511,511]"
   ]
  }
 ],
 "metadata": {
  "kernelspec": {
   "display_name": "Python 3",
   "language": "python",
   "name": "python3"
  },
  "language_info": {
   "codemirror_mode": {
    "name": "ipython",
    "version": 3
   },
   "file_extension": ".py",
   "mimetype": "text/x-python",
   "name": "python",
   "nbconvert_exporter": "python",
   "pygments_lexer": "ipython3",
   "version": "3.8.5"
  }
 },
 "nbformat": 4,
 "nbformat_minor": 4
}
